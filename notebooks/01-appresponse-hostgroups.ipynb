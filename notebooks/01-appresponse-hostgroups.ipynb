{
 "cells": [
  {
   "cell_type": "markdown",
   "metadata": {},
   "source": [
    "## Set parameters"
   ]
  },
  {
   "cell_type": "code",
   "execution_count": null,
   "metadata": {},
   "outputs": [],
   "source": [
    "hostname = \"APPRESPONSE.your-corp.net\"\n",
    "username = \"USERNAME\"\n",
    "password = \"PASSWORD\""
   ]
  },
  {
   "cell_type": "markdown",
   "metadata": {},
   "source": [
    "## Load modules"
   ]
  },
  {
   "cell_type": "code",
   "execution_count": null,
   "metadata": {},
   "outputs": [],
   "source": [
    "import steelscript\n",
    "from steelscript.common.service import UserAuth\n",
    "from steelscript.appresponse.core.appresponse import AppResponse\n",
    "from steelscript.appresponse.core.app import AppResponseApp\n",
    "from steelscript.common.datautils import Formatter"
   ]
  },
  {
   "cell_type": "markdown",
   "metadata": {},
   "source": [
    "## Initialize the connection"
   ]
  },
  {
   "cell_type": "code",
   "execution_count": null,
   "metadata": {},
   "outputs": [],
   "source": [
    "ar = AppResponse(host=hostname, auth=UserAuth(username, password))"
   ]
  },
  {
   "cell_type": "markdown",
   "metadata": {},
   "source": [
    "## Fetch data and print in a table"
   ]
  },
  {
   "cell_type": "code",
   "execution_count": null,
   "metadata": {},
   "outputs": [],
   "source": [
    "headers = ['id', 'name', 'active', 'definition']\n",
    "data = [[hg.id, hg.name, hg.data.enabled, hg.data.hosts]\n",
    "        for hg in ar.classification.get_hostgroups() if hasattr(hg.data,'hosts')\n",
    "        ]\n",
    "Formatter.print_table(data, headers)"
   ]
  }
 ],
 "metadata": {
  "language_info": {
   "name": "python"
  }
 },
 "nbformat": 4,
 "nbformat_minor": 2
}
